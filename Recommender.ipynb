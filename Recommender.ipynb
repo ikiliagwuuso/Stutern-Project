{
  "nbformat": 4,
  "nbformat_minor": 0,
  "metadata": {
    "colab": {
      "name": "Recommender.ipynb",
      "provenance": [],
      "collapsed_sections": [],
      "authorship_tag": "ABX9TyMFHNi2Oer9OeVDq56YUuLB",
      "include_colab_link": true
    },
    "kernelspec": {
      "display_name": "Python 3",
      "name": "python3"
    },
    "language_info": {
      "name": "python"
    },
    "accelerator": "GPU"
  },
  "cells": [
    {
      "cell_type": "markdown",
      "metadata": {
        "id": "view-in-github",
        "colab_type": "text"
      },
      "source": [
        "<a href=\"https://colab.research.google.com/github/ikiliagwuuso/Stutern-Project/blob/ikiliagwuuso-patch-1/Recommender.ipynb\" target=\"_parent\"><img src=\"https://colab.research.google.com/assets/colab-badge.svg\" alt=\"Open In Colab\"/></a>"
      ]
    },
    {
      "cell_type": "code",
      "metadata": {
        "id": "cR8xV-1vzqrN"
      },
      "source": [
        "import numpy as np\n",
        "import pandas as pd\n",
        "import os"
      ],
      "execution_count": null,
      "outputs": []
    },
    {
      "cell_type": "code",
      "metadata": {
        "id": "H4jybNljPNii"
      },
      "source": [
        "import glob\n",
        "import zipfile\n",
        "import pandas as pd\n",
        "\n",
        "for zip_file in glob.glob(\"C/folder/*.zip\"):\n",
        "    zf = zipfile.ZipFile(zip_file)\n",
        "    dfs = [pd.read_csv(zf.open(f), header=None, sep=\";\") for f in zf.namelist()]\n",
        "    df = pd.concat(dfs,ignore_index=True)\n",
        "    print(df)"
      ],
      "execution_count": null,
      "outputs": []
    },
    {
      "cell_type": "code",
      "metadata": {
        "id": "r7SnSZWKerZV"
      },
      "source": [
        "import glob\n",
        "import pandas as pd\n",
        "\n",
        "# get data file names\n",
        "path =r'/home/rhymeinstein/Desktop/muzify'\n",
        "filenames = glob.glob(path + \"/*.csv\")\n",
        "\n",
        "dfs = []\n",
        "for filename in filenames:\n",
        "    dfs.append(pd.read_csv(filename))"
      ],
      "execution_count": null,
      "outputs": []
    },
    {
      "cell_type": "code",
      "metadata": {
        "id": "eEAYDnW3p2o-"
      },
      "source": [
        "import os\n",
        "for dirname, _, filenames in os.walk('/deezer'):\n",
        "    for filename in filenames:\n",
        "        print(os.path.join(dirname, filename))"
      ],
      "execution_count": null,
      "outputs": []
    },
    {
      "cell_type": "code",
      "metadata": {
        "id": "Y_8uDc5cn7bQ"
      },
      "source": [
        "muzify = pd.read_csv (\"tracks.csv\")"
      ],
      "execution_count": null,
      "outputs": []
    },
    {
      "cell_type": "code",
      "metadata": {
        "colab": {
          "base_uri": "https://localhost:8080/",
          "height": 326
        },
        "id": "P_882ZZoqeYt",
        "outputId": "f1d70c37-f9ff-49f2-a847-18d223f533c7"
      },
      "source": [
        "muzify.head()"
      ],
      "execution_count": null,
      "outputs": [
        {
          "output_type": "execute_result",
          "data": {
            "text/html": [
              "<div>\n",
              "<style scoped>\n",
              "    .dataframe tbody tr th:only-of-type {\n",
              "        vertical-align: middle;\n",
              "    }\n",
              "\n",
              "    .dataframe tbody tr th {\n",
              "        vertical-align: top;\n",
              "    }\n",
              "\n",
              "    .dataframe thead th {\n",
              "        text-align: right;\n",
              "    }\n",
              "</style>\n",
              "<table border=\"1\" class=\"dataframe\">\n",
              "  <thead>\n",
              "    <tr style=\"text-align: right;\">\n",
              "      <th></th>\n",
              "      <th>id</th>\n",
              "      <th>name</th>\n",
              "      <th>popularity</th>\n",
              "      <th>duration_ms</th>\n",
              "      <th>explicit</th>\n",
              "      <th>artists</th>\n",
              "      <th>id_artists</th>\n",
              "      <th>release_date</th>\n",
              "      <th>danceability</th>\n",
              "      <th>energy</th>\n",
              "      <th>key</th>\n",
              "      <th>loudness</th>\n",
              "      <th>mode</th>\n",
              "      <th>speechiness</th>\n",
              "      <th>acousticness</th>\n",
              "      <th>instrumentalness</th>\n",
              "      <th>liveness</th>\n",
              "      <th>valence</th>\n",
              "      <th>tempo</th>\n",
              "      <th>time_signature</th>\n",
              "    </tr>\n",
              "  </thead>\n",
              "  <tbody>\n",
              "    <tr>\n",
              "      <th>0</th>\n",
              "      <td>35iwgR4jXetI318WEWsa1Q</td>\n",
              "      <td>Carve</td>\n",
              "      <td>6</td>\n",
              "      <td>126903</td>\n",
              "      <td>0</td>\n",
              "      <td>['Uli']</td>\n",
              "      <td>['45tIt06XoI0Iio4LBEVpls']</td>\n",
              "      <td>1922-02-22</td>\n",
              "      <td>0.645</td>\n",
              "      <td>0.4450</td>\n",
              "      <td>0</td>\n",
              "      <td>-13.338</td>\n",
              "      <td>1</td>\n",
              "      <td>0.4510</td>\n",
              "      <td>0.674</td>\n",
              "      <td>0.7440</td>\n",
              "      <td>0.151</td>\n",
              "      <td>0.127</td>\n",
              "      <td>104.851</td>\n",
              "      <td>3</td>\n",
              "    </tr>\n",
              "    <tr>\n",
              "      <th>1</th>\n",
              "      <td>021ht4sdgPcrDgSk7JTbKY</td>\n",
              "      <td>Capítulo 2.16 - Banquero Anarquista</td>\n",
              "      <td>0</td>\n",
              "      <td>98200</td>\n",
              "      <td>0</td>\n",
              "      <td>['Fernando Pessoa']</td>\n",
              "      <td>['14jtPCOoNZwquk5wd9DxrY']</td>\n",
              "      <td>1922-06-01</td>\n",
              "      <td>0.695</td>\n",
              "      <td>0.2630</td>\n",
              "      <td>0</td>\n",
              "      <td>-22.136</td>\n",
              "      <td>1</td>\n",
              "      <td>0.9570</td>\n",
              "      <td>0.797</td>\n",
              "      <td>0.0000</td>\n",
              "      <td>0.148</td>\n",
              "      <td>0.655</td>\n",
              "      <td>102.009</td>\n",
              "      <td>1</td>\n",
              "    </tr>\n",
              "    <tr>\n",
              "      <th>2</th>\n",
              "      <td>07A5yehtSnoedViJAZkNnc</td>\n",
              "      <td>Vivo para Quererte - Remasterizado</td>\n",
              "      <td>0</td>\n",
              "      <td>181640</td>\n",
              "      <td>0</td>\n",
              "      <td>['Ignacio Corsini']</td>\n",
              "      <td>['5LiOoJbxVSAMkBS2fUm3X2']</td>\n",
              "      <td>1922-03-21</td>\n",
              "      <td>0.434</td>\n",
              "      <td>0.1770</td>\n",
              "      <td>1</td>\n",
              "      <td>-21.180</td>\n",
              "      <td>1</td>\n",
              "      <td>0.0512</td>\n",
              "      <td>0.994</td>\n",
              "      <td>0.0218</td>\n",
              "      <td>0.212</td>\n",
              "      <td>0.457</td>\n",
              "      <td>130.418</td>\n",
              "      <td>5</td>\n",
              "    </tr>\n",
              "    <tr>\n",
              "      <th>3</th>\n",
              "      <td>08FmqUhxtyLTn6pAh6bk45</td>\n",
              "      <td>El Prisionero - Remasterizado</td>\n",
              "      <td>0</td>\n",
              "      <td>176907</td>\n",
              "      <td>0</td>\n",
              "      <td>['Ignacio Corsini']</td>\n",
              "      <td>['5LiOoJbxVSAMkBS2fUm3X2']</td>\n",
              "      <td>1922-03-21</td>\n",
              "      <td>0.321</td>\n",
              "      <td>0.0946</td>\n",
              "      <td>7</td>\n",
              "      <td>-27.961</td>\n",
              "      <td>1</td>\n",
              "      <td>0.0504</td>\n",
              "      <td>0.995</td>\n",
              "      <td>0.9180</td>\n",
              "      <td>0.104</td>\n",
              "      <td>0.397</td>\n",
              "      <td>169.980</td>\n",
              "      <td>3</td>\n",
              "    </tr>\n",
              "    <tr>\n",
              "      <th>4</th>\n",
              "      <td>08y9GfoqCWfOGsKdwojr5e</td>\n",
              "      <td>Lady of the Evening</td>\n",
              "      <td>0</td>\n",
              "      <td>163080</td>\n",
              "      <td>0</td>\n",
              "      <td>['Dick Haymes']</td>\n",
              "      <td>['3BiJGZsyX9sJchTqcSA7Su']</td>\n",
              "      <td>1922</td>\n",
              "      <td>0.402</td>\n",
              "      <td>0.1580</td>\n",
              "      <td>3</td>\n",
              "      <td>-16.900</td>\n",
              "      <td>0</td>\n",
              "      <td>0.0390</td>\n",
              "      <td>0.989</td>\n",
              "      <td>0.1300</td>\n",
              "      <td>0.311</td>\n",
              "      <td>0.196</td>\n",
              "      <td>103.220</td>\n",
              "      <td>4</td>\n",
              "    </tr>\n",
              "  </tbody>\n",
              "</table>\n",
              "</div>"
            ],
            "text/plain": [
              "                       id  ... time_signature\n",
              "0  35iwgR4jXetI318WEWsa1Q  ...              3\n",
              "1  021ht4sdgPcrDgSk7JTbKY  ...              1\n",
              "2  07A5yehtSnoedViJAZkNnc  ...              5\n",
              "3  08FmqUhxtyLTn6pAh6bk45  ...              3\n",
              "4  08y9GfoqCWfOGsKdwojr5e  ...              4\n",
              "\n",
              "[5 rows x 20 columns]"
            ]
          },
          "metadata": {
            "tags": []
          },
          "execution_count": 6
        }
      ]
    },
    {
      "cell_type": "code",
      "metadata": {
        "id": "-Abji-2qrb0D"
      },
      "source": [
        "muzify_desc = muzify.describe()"
      ],
      "execution_count": null,
      "outputs": []
    },
    {
      "cell_type": "code",
      "metadata": {
        "id": "D6YLfOGEu7t3"
      },
      "source": [
        "muzify_desc.to_csv(\"../muzify_desc.csv\")"
      ],
      "execution_count": null,
      "outputs": []
    },
    {
      "cell_type": "code",
      "metadata": {
        "colab": {
          "base_uri": "https://localhost:8080/"
        },
        "id": "6ZcjURYyvXLt",
        "outputId": "1c2c8831-c191-4e25-f1e5-5d3922afcc2f"
      },
      "source": [
        "muzify_filtered = muzify[muzify.popularity >= 30]\n",
        "muzify_filtered.count()"
      ],
      "execution_count": null,
      "outputs": [
        {
          "output_type": "execute_result",
          "data": {
            "text/plain": [
              "id                  266571\n",
              "name                266571\n",
              "popularity          266571\n",
              "duration_ms         266571\n",
              "explicit            266571\n",
              "artists             266571\n",
              "id_artists          266571\n",
              "release_date        266571\n",
              "danceability        266571\n",
              "energy              266571\n",
              "key                 266571\n",
              "loudness            266571\n",
              "mode                266571\n",
              "speechiness         266571\n",
              "acousticness        266571\n",
              "instrumentalness    266571\n",
              "liveness            266571\n",
              "valence             266571\n",
              "tempo               266571\n",
              "time_signature      266571\n",
              "dtype: int64"
            ]
          },
          "metadata": {
            "tags": []
          },
          "execution_count": 9
        }
      ]
    },
    {
      "cell_type": "code",
      "metadata": {
        "colab": {
          "base_uri": "https://localhost:8080/",
          "height": 258
        },
        "id": "TnxbpaHav-rr",
        "outputId": "102f24b0-7eee-4013-9f48-58e4fccc8875"
      },
      "source": [
        "features = muzify_filtered.drop([\"id\", \"artists\", \"explicit\",\"mode\", \"popularity\", \"release_date\", \"name\", \"duration_ms\"], axis=1)\n",
        "features.head()"
      ],
      "execution_count": null,
      "outputs": [
        {
          "output_type": "execute_result",
          "data": {
            "text/html": [
              "<div>\n",
              "<style scoped>\n",
              "    .dataframe tbody tr th:only-of-type {\n",
              "        vertical-align: middle;\n",
              "    }\n",
              "\n",
              "    .dataframe tbody tr th {\n",
              "        vertical-align: top;\n",
              "    }\n",
              "\n",
              "    .dataframe thead th {\n",
              "        text-align: right;\n",
              "    }\n",
              "</style>\n",
              "<table border=\"1\" class=\"dataframe\">\n",
              "  <thead>\n",
              "    <tr style=\"text-align: right;\">\n",
              "      <th></th>\n",
              "      <th>id_artists</th>\n",
              "      <th>danceability</th>\n",
              "      <th>energy</th>\n",
              "      <th>key</th>\n",
              "      <th>loudness</th>\n",
              "      <th>speechiness</th>\n",
              "      <th>acousticness</th>\n",
              "      <th>instrumentalness</th>\n",
              "      <th>liveness</th>\n",
              "      <th>valence</th>\n",
              "      <th>tempo</th>\n",
              "      <th>time_signature</th>\n",
              "    </tr>\n",
              "  </thead>\n",
              "  <tbody>\n",
              "    <tr>\n",
              "      <th>149</th>\n",
              "      <td>['5ESobCkc6JI4tIMxQttqeg']</td>\n",
              "      <td>0.614</td>\n",
              "      <td>0.0423</td>\n",
              "      <td>4</td>\n",
              "      <td>-12.033</td>\n",
              "      <td>0.0535</td>\n",
              "      <td>0.996</td>\n",
              "      <td>0.002930</td>\n",
              "      <td>0.183</td>\n",
              "      <td>0.211</td>\n",
              "      <td>89.822</td>\n",
              "      <td>4</td>\n",
              "    </tr>\n",
              "    <tr>\n",
              "      <th>150</th>\n",
              "      <td>['19eLuQmk9aCobbVDHc6eek', '2mY5u4CceAPrpBnse1...</td>\n",
              "      <td>0.831</td>\n",
              "      <td>0.2620</td>\n",
              "      <td>8</td>\n",
              "      <td>-12.386</td>\n",
              "      <td>0.0942</td>\n",
              "      <td>0.984</td>\n",
              "      <td>0.912000</td>\n",
              "      <td>0.204</td>\n",
              "      <td>0.901</td>\n",
              "      <td>104.606</td>\n",
              "      <td>4</td>\n",
              "    </tr>\n",
              "    <tr>\n",
              "      <th>151</th>\n",
              "      <td>['5ESobCkc6JI4tIMxQttqeg']</td>\n",
              "      <td>0.537</td>\n",
              "      <td>0.0443</td>\n",
              "      <td>3</td>\n",
              "      <td>-16.474</td>\n",
              "      <td>0.0343</td>\n",
              "      <td>0.996</td>\n",
              "      <td>0.000265</td>\n",
              "      <td>0.152</td>\n",
              "      <td>0.137</td>\n",
              "      <td>80.468</td>\n",
              "      <td>4</td>\n",
              "    </tr>\n",
              "    <tr>\n",
              "      <th>1128</th>\n",
              "      <td>['4WoGga7UeRcmjD4ufif4nG']</td>\n",
              "      <td>0.678</td>\n",
              "      <td>0.1750</td>\n",
              "      <td>3</td>\n",
              "      <td>-13.021</td>\n",
              "      <td>0.0301</td>\n",
              "      <td>0.969</td>\n",
              "      <td>0.001050</td>\n",
              "      <td>0.177</td>\n",
              "      <td>0.580</td>\n",
              "      <td>112.941</td>\n",
              "      <td>4</td>\n",
              "    </tr>\n",
              "    <tr>\n",
              "      <th>1129</th>\n",
              "      <td>['4WoGga7UeRcmjD4ufif4nG', '2AXAKE1COdyXySL9LR...</td>\n",
              "      <td>0.531</td>\n",
              "      <td>0.1700</td>\n",
              "      <td>5</td>\n",
              "      <td>-14.500</td>\n",
              "      <td>0.0771</td>\n",
              "      <td>0.991</td>\n",
              "      <td>0.174000</td>\n",
              "      <td>0.126</td>\n",
              "      <td>0.805</td>\n",
              "      <td>165.165</td>\n",
              "      <td>4</td>\n",
              "    </tr>\n",
              "  </tbody>\n",
              "</table>\n",
              "</div>"
            ],
            "text/plain": [
              "                                             id_artists  ...  time_signature\n",
              "149                          ['5ESobCkc6JI4tIMxQttqeg']  ...               4\n",
              "150   ['19eLuQmk9aCobbVDHc6eek', '2mY5u4CceAPrpBnse1...  ...               4\n",
              "151                          ['5ESobCkc6JI4tIMxQttqeg']  ...               4\n",
              "1128                         ['4WoGga7UeRcmjD4ufif4nG']  ...               4\n",
              "1129  ['4WoGga7UeRcmjD4ufif4nG', '2AXAKE1COdyXySL9LR...  ...               4\n",
              "\n",
              "[5 rows x 12 columns]"
            ]
          },
          "metadata": {
            "tags": []
          },
          "execution_count": 10
        }
      ]
    },
    {
      "cell_type": "code",
      "metadata": {
        "colab": {
          "base_uri": "https://localhost:8080/",
          "height": 326
        },
        "id": "6K6bezmHw7ZK",
        "outputId": "c4588cae-0f6e-497e-c07f-0baed1da6718"
      },
      "source": [
        "songs = muzify_filtered[[\"id\", \"name\", \"artists\", \"explicit\",\"mode\", \"popularity\", \"duration_ms\"]]\n",
        "songs = muzify.rename({\"id\": \"song_id\"}, axis=\"columns\")\n",
        "songs.head()"
      ],
      "execution_count": null,
      "outputs": [
        {
          "output_type": "execute_result",
          "data": {
            "text/html": [
              "<div>\n",
              "<style scoped>\n",
              "    .dataframe tbody tr th:only-of-type {\n",
              "        vertical-align: middle;\n",
              "    }\n",
              "\n",
              "    .dataframe tbody tr th {\n",
              "        vertical-align: top;\n",
              "    }\n",
              "\n",
              "    .dataframe thead th {\n",
              "        text-align: right;\n",
              "    }\n",
              "</style>\n",
              "<table border=\"1\" class=\"dataframe\">\n",
              "  <thead>\n",
              "    <tr style=\"text-align: right;\">\n",
              "      <th></th>\n",
              "      <th>song_id</th>\n",
              "      <th>name</th>\n",
              "      <th>popularity</th>\n",
              "      <th>duration_ms</th>\n",
              "      <th>explicit</th>\n",
              "      <th>artists</th>\n",
              "      <th>id_artists</th>\n",
              "      <th>release_date</th>\n",
              "      <th>danceability</th>\n",
              "      <th>energy</th>\n",
              "      <th>key</th>\n",
              "      <th>loudness</th>\n",
              "      <th>mode</th>\n",
              "      <th>speechiness</th>\n",
              "      <th>acousticness</th>\n",
              "      <th>instrumentalness</th>\n",
              "      <th>liveness</th>\n",
              "      <th>valence</th>\n",
              "      <th>tempo</th>\n",
              "      <th>time_signature</th>\n",
              "    </tr>\n",
              "  </thead>\n",
              "  <tbody>\n",
              "    <tr>\n",
              "      <th>0</th>\n",
              "      <td>35iwgR4jXetI318WEWsa1Q</td>\n",
              "      <td>Carve</td>\n",
              "      <td>6</td>\n",
              "      <td>126903</td>\n",
              "      <td>0</td>\n",
              "      <td>['Uli']</td>\n",
              "      <td>['45tIt06XoI0Iio4LBEVpls']</td>\n",
              "      <td>1922-02-22</td>\n",
              "      <td>0.645</td>\n",
              "      <td>0.4450</td>\n",
              "      <td>0</td>\n",
              "      <td>-13.338</td>\n",
              "      <td>1</td>\n",
              "      <td>0.4510</td>\n",
              "      <td>0.674</td>\n",
              "      <td>0.7440</td>\n",
              "      <td>0.151</td>\n",
              "      <td>0.127</td>\n",
              "      <td>104.851</td>\n",
              "      <td>3</td>\n",
              "    </tr>\n",
              "    <tr>\n",
              "      <th>1</th>\n",
              "      <td>021ht4sdgPcrDgSk7JTbKY</td>\n",
              "      <td>Capítulo 2.16 - Banquero Anarquista</td>\n",
              "      <td>0</td>\n",
              "      <td>98200</td>\n",
              "      <td>0</td>\n",
              "      <td>['Fernando Pessoa']</td>\n",
              "      <td>['14jtPCOoNZwquk5wd9DxrY']</td>\n",
              "      <td>1922-06-01</td>\n",
              "      <td>0.695</td>\n",
              "      <td>0.2630</td>\n",
              "      <td>0</td>\n",
              "      <td>-22.136</td>\n",
              "      <td>1</td>\n",
              "      <td>0.9570</td>\n",
              "      <td>0.797</td>\n",
              "      <td>0.0000</td>\n",
              "      <td>0.148</td>\n",
              "      <td>0.655</td>\n",
              "      <td>102.009</td>\n",
              "      <td>1</td>\n",
              "    </tr>\n",
              "    <tr>\n",
              "      <th>2</th>\n",
              "      <td>07A5yehtSnoedViJAZkNnc</td>\n",
              "      <td>Vivo para Quererte - Remasterizado</td>\n",
              "      <td>0</td>\n",
              "      <td>181640</td>\n",
              "      <td>0</td>\n",
              "      <td>['Ignacio Corsini']</td>\n",
              "      <td>['5LiOoJbxVSAMkBS2fUm3X2']</td>\n",
              "      <td>1922-03-21</td>\n",
              "      <td>0.434</td>\n",
              "      <td>0.1770</td>\n",
              "      <td>1</td>\n",
              "      <td>-21.180</td>\n",
              "      <td>1</td>\n",
              "      <td>0.0512</td>\n",
              "      <td>0.994</td>\n",
              "      <td>0.0218</td>\n",
              "      <td>0.212</td>\n",
              "      <td>0.457</td>\n",
              "      <td>130.418</td>\n",
              "      <td>5</td>\n",
              "    </tr>\n",
              "    <tr>\n",
              "      <th>3</th>\n",
              "      <td>08FmqUhxtyLTn6pAh6bk45</td>\n",
              "      <td>El Prisionero - Remasterizado</td>\n",
              "      <td>0</td>\n",
              "      <td>176907</td>\n",
              "      <td>0</td>\n",
              "      <td>['Ignacio Corsini']</td>\n",
              "      <td>['5LiOoJbxVSAMkBS2fUm3X2']</td>\n",
              "      <td>1922-03-21</td>\n",
              "      <td>0.321</td>\n",
              "      <td>0.0946</td>\n",
              "      <td>7</td>\n",
              "      <td>-27.961</td>\n",
              "      <td>1</td>\n",
              "      <td>0.0504</td>\n",
              "      <td>0.995</td>\n",
              "      <td>0.9180</td>\n",
              "      <td>0.104</td>\n",
              "      <td>0.397</td>\n",
              "      <td>169.980</td>\n",
              "      <td>3</td>\n",
              "    </tr>\n",
              "    <tr>\n",
              "      <th>4</th>\n",
              "      <td>08y9GfoqCWfOGsKdwojr5e</td>\n",
              "      <td>Lady of the Evening</td>\n",
              "      <td>0</td>\n",
              "      <td>163080</td>\n",
              "      <td>0</td>\n",
              "      <td>['Dick Haymes']</td>\n",
              "      <td>['3BiJGZsyX9sJchTqcSA7Su']</td>\n",
              "      <td>1922</td>\n",
              "      <td>0.402</td>\n",
              "      <td>0.1580</td>\n",
              "      <td>3</td>\n",
              "      <td>-16.900</td>\n",
              "      <td>0</td>\n",
              "      <td>0.0390</td>\n",
              "      <td>0.989</td>\n",
              "      <td>0.1300</td>\n",
              "      <td>0.311</td>\n",
              "      <td>0.196</td>\n",
              "      <td>103.220</td>\n",
              "      <td>4</td>\n",
              "    </tr>\n",
              "  </tbody>\n",
              "</table>\n",
              "</div>"
            ],
            "text/plain": [
              "                  song_id  ... time_signature\n",
              "0  35iwgR4jXetI318WEWsa1Q  ...              3\n",
              "1  021ht4sdgPcrDgSk7JTbKY  ...              1\n",
              "2  07A5yehtSnoedViJAZkNnc  ...              5\n",
              "3  08FmqUhxtyLTn6pAh6bk45  ...              3\n",
              "4  08y9GfoqCWfOGsKdwojr5e  ...              4\n",
              "\n",
              "[5 rows x 20 columns]"
            ]
          },
          "metadata": {
            "tags": []
          },
          "execution_count": 11
        }
      ]
    },
    {
      "cell_type": "code",
      "metadata": {
        "colab": {
          "base_uri": "https://localhost:8080/"
        },
        "id": "444oNXeBw71q",
        "outputId": "23e30631-b168-490f-851f-fb5508166c9f"
      },
      "source": [
        "songs.count()"
      ],
      "execution_count": null,
      "outputs": [
        {
          "output_type": "execute_result",
          "data": {
            "text/plain": [
              "song_id             586672\n",
              "name                586601\n",
              "popularity          586672\n",
              "duration_ms         586672\n",
              "explicit            586672\n",
              "artists             586672\n",
              "id_artists          586672\n",
              "release_date        586672\n",
              "danceability        586672\n",
              "energy              586672\n",
              "key                 586672\n",
              "loudness            586672\n",
              "mode                586672\n",
              "speechiness         586672\n",
              "acousticness        586672\n",
              "instrumentalness    586672\n",
              "liveness            586672\n",
              "valence             586672\n",
              "tempo               586672\n",
              "time_signature      586672\n",
              "dtype: int64"
            ]
          },
          "metadata": {
            "tags": []
          },
          "execution_count": 12
        }
      ]
    },
    {
      "cell_type": "code",
      "metadata": {
        "id": "k7w9exdvyNmJ"
      },
      "source": [
        "songs.to_csv('../songs.csv', index_label='id')"
      ],
      "execution_count": null,
      "outputs": []
    },
    {
      "cell_type": "code",
      "metadata": {
        "id": "DIf7Zcai0Zpr"
      },
      "source": [
        "songs_temp = songs.reset_index()"
      ],
      "execution_count": null,
      "outputs": []
    },
    {
      "cell_type": "code",
      "metadata": {
        "id": "wCwSNQAbyT-v"
      },
      "source": [
        "import numpy as np\n",
        "import pandas as pd\n",
        "import seaborn as sns\n",
        "import matplotlib.pyplot as plt\n",
        "from sklearn.metrics.pairwise import cosine_distances\n",
        "from sklearn.metrics.pairwise import cosine_similarity\n",
        "from sklearn.preprocessing import MinMaxScaler"
      ],
      "execution_count": null,
      "outputs": []
    },
    {
      "cell_type": "code",
      "metadata": {
        "id": "LDDspGTlyZwK"
      },
      "source": [
        "def get_recommendation(current_feature, threshold):\n",
        "    a = np.subtract(feature_vals, current_feature)\n",
        "    a = np.multiply(a, a)\n",
        "    distances = np.sum(a, axis=1)\n",
        "    distances = distances[distances > threshold]\n",
        "    recom_list = songs_temp.song_id[np.argsort(distances)[1:4]].tolist()\n",
        "    return recom_list"
      ],
      "execution_count": null,
      "outputs": []
    },
    {
      "cell_type": "code",
      "metadata": {
        "id": "5p4n_QwLy790"
      },
      "source": [
        "def create_recommendations(idx):\n",
        "    recommendations = []\n",
        "    for i in range(idx, min(idx+sample_size, feature_vals.shape[0])):\n",
        "        recommendation = dict()\n",
        "        recommendation['name'] = songs_temp.song_id[i]\n",
        "        recommendation[\"neighbors\"] = get_recommendation(feature_vals[i], 0.5)\n",
        "        recommendations.append(recommendation)\n",
        "    return recommendations"
      ],
      "execution_count": null,
      "outputs": []
    },
    {
      "cell_type": "code",
      "metadata": {
        "id": "zDLgR9EfzAbQ"
      },
      "source": [
        "# cosine\n",
        "def cosine_dist(u, v):\n",
        "    u_l2 = np.sqrt(np.dot(np.transpose(u), u))\n",
        "    v_l2 = np.sqrt(np.dot(np.transpose(v), v))\n",
        "    \n",
        "    numerator = np.dot(np.transpose(u), v)\n",
        "    dist = np.arccos((numerator)/(u_l2*v_l2))/np.pi\n",
        "    return dist"
      ],
      "execution_count": null,
      "outputs": []
    },
    {
      "cell_type": "code",
      "metadata": {
        "id": "2R_vyrMz1Ebm"
      },
      "source": [
        "# euclidean\n",
        "def euclidean_dist(u, v):\n",
        "    a = np.subtract(u, v)\n",
        "    dist = np.dot(np.transpose(a), a)\n",
        "    return dist"
      ],
      "execution_count": null,
      "outputs": []
    },
    {
      "cell_type": "code",
      "metadata": {
        "id": "jxJRpN-51ISb"
      },
      "source": [
        "def dist_2songs(feature1, feature2, metric=\"cosine\"):\n",
        "    print(metric)\n",
        "    dist = -1;\n",
        "    if(metric == \"cosine\"):\n",
        "        #print(\"calculating cosine\")\n",
        "        dist = cosine_dist(feature1, feature2)\n",
        "    elif(metric == \"euclidean\"):\n",
        "        #print(\"calculating euclidean\")\n",
        "        a = np.subtract(feature1, feature2)\n",
        "        dist = np.dot(np.transpose(a), a)\n",
        "        \n",
        "    return dist"
      ],
      "execution_count": null,
      "outputs": []
    },
    {
      "cell_type": "code",
      "metadata": {
        "colab": {
          "base_uri": "https://localhost:8080/",
          "height": 672
        },
        "id": "NiAO9K4J2EKa",
        "outputId": "96f119c6-48a3-4e46-e5ef-4513c8f3ca9f"
      },
      "source": [
        "plt.subplots(figsize=(15, 10))\n",
        "sns.heatmap(muzify.corr(), annot=True, square=True)\n",
        "plt.show()"
      ],
      "execution_count": null,
      "outputs": [
        {
          "output_type": "display_data",
          "data": {
            "image/png": "[encoded data removed]",
            "text/plain": [
              "<Figure size 1080x720 with 2 Axes>"
            ]
          },
          "metadata": {
            "tags": [],
            "needs_background": "light"
          }
        }
      ]
    },
    {
      "cell_type": "code",
      "metadata": {
        "id": "3KIMhiZy1MGf",
        "colab": {
          "base_uri": "https://localhost:8080/",
          "height": 315
        },
        "outputId": "788428f2-edc4-4004-a9a8-0fc5c4b9b8c1"
      },
      "source": [
        "caya=muzify[muzify.name=='Come As You Are']\n",
        "caya.head(3)"
      ],
      "execution_count": null,
      "outputs": [
        {
          "output_type": "execute_result",
          "data": {
            "text/html": [
              "<div>\n",
              "<style scoped>\n",
              "    .dataframe tbody tr th:only-of-type {\n",
              "        vertical-align: middle;\n",
              "    }\n",
              "\n",
              "    .dataframe tbody tr th {\n",
              "        vertical-align: top;\n",
              "    }\n",
              "\n",
              "    .dataframe thead th {\n",
              "        text-align: right;\n",
              "    }\n",
              "</style>\n",
              "<table border=\"1\" class=\"dataframe\">\n",
              "  <thead>\n",
              "    <tr style=\"text-align: right;\">\n",
              "      <th></th>\n",
              "      <th>id</th>\n",
              "      <th>name</th>\n",
              "      <th>popularity</th>\n",
              "      <th>duration_ms</th>\n",
              "      <th>explicit</th>\n",
              "      <th>artists</th>\n",
              "      <th>id_artists</th>\n",
              "      <th>release_date</th>\n",
              "      <th>danceability</th>\n",
              "      <th>energy</th>\n",
              "      <th>key</th>\n",
              "      <th>loudness</th>\n",
              "      <th>mode</th>\n",
              "      <th>speechiness</th>\n",
              "      <th>acousticness</th>\n",
              "      <th>instrumentalness</th>\n",
              "      <th>liveness</th>\n",
              "      <th>valence</th>\n",
              "      <th>tempo</th>\n",
              "      <th>time_signature</th>\n",
              "    </tr>\n",
              "  </thead>\n",
              "  <tbody>\n",
              "    <tr>\n",
              "      <th>64444</th>\n",
              "      <td>0MKGH8UMfCnq5w7nG06oM5</td>\n",
              "      <td>Come As You Are</td>\n",
              "      <td>79</td>\n",
              "      <td>218920</td>\n",
              "      <td>0</td>\n",
              "      <td>['Nirvana']</td>\n",
              "      <td>['6olE6TJLqED3rqDCT0FyPh']</td>\n",
              "      <td>1991-09-26</td>\n",
              "      <td>0.500</td>\n",
              "      <td>0.824</td>\n",
              "      <td>4</td>\n",
              "      <td>-5.846</td>\n",
              "      <td>0</td>\n",
              "      <td>0.0388</td>\n",
              "      <td>0.00016</td>\n",
              "      <td>0.00161</td>\n",
              "      <td>0.0916</td>\n",
              "      <td>0.539</td>\n",
              "      <td>120.125</td>\n",
              "      <td>4</td>\n",
              "    </tr>\n",
              "    <tr>\n",
              "      <th>64776</th>\n",
              "      <td>2RsAajgo0g7bMCHxwH3Sk0</td>\n",
              "      <td>Come As You Are</td>\n",
              "      <td>54</td>\n",
              "      <td>218920</td>\n",
              "      <td>0</td>\n",
              "      <td>['Nirvana']</td>\n",
              "      <td>['6olE6TJLqED3rqDCT0FyPh']</td>\n",
              "      <td>1991-09-26</td>\n",
              "      <td>0.500</td>\n",
              "      <td>0.824</td>\n",
              "      <td>4</td>\n",
              "      <td>-5.846</td>\n",
              "      <td>0</td>\n",
              "      <td>0.0388</td>\n",
              "      <td>0.00016</td>\n",
              "      <td>0.00161</td>\n",
              "      <td>0.0916</td>\n",
              "      <td>0.539</td>\n",
              "      <td>120.125</td>\n",
              "      <td>4</td>\n",
              "    </tr>\n",
              "    <tr>\n",
              "      <th>67523</th>\n",
              "      <td>3sYWyVGfPuit80szWXhrRA</td>\n",
              "      <td>Come As You Are</td>\n",
              "      <td>65</td>\n",
              "      <td>253907</td>\n",
              "      <td>0</td>\n",
              "      <td>['Nirvana']</td>\n",
              "      <td>['6olE6TJLqED3rqDCT0FyPh']</td>\n",
              "      <td>1994-11-01</td>\n",
              "      <td>0.683</td>\n",
              "      <td>0.766</td>\n",
              "      <td>5</td>\n",
              "      <td>-8.733</td>\n",
              "      <td>0</td>\n",
              "      <td>0.0410</td>\n",
              "      <td>0.55400</td>\n",
              "      <td>0.00346</td>\n",
              "      <td>0.0815</td>\n",
              "      <td>0.568</td>\n",
              "      <td>119.190</td>\n",
              "      <td>4</td>\n",
              "    </tr>\n",
              "  </tbody>\n",
              "</table>\n",
              "</div>"
            ],
            "text/plain": [
              "                           id             name  ...    tempo  time_signature\n",
              "64444  0MKGH8UMfCnq5w7nG06oM5  Come As You Are  ...  120.125               4\n",
              "64776  2RsAajgo0g7bMCHxwH3Sk0  Come As You Are  ...  120.125               4\n",
              "67523  3sYWyVGfPuit80szWXhrRA  Come As You Are  ...  119.190               4\n",
              "\n",
              "[3 rows x 20 columns]"
            ]
          },
          "metadata": {
            "tags": []
          },
          "execution_count": 22
        }
      ]
    },
    {
      "cell_type": "code",
      "metadata": {
        "colab": {
          "base_uri": "https://localhost:8080/"
        },
        "id": "CQ1OuoJT4GmX",
        "outputId": "6af04db0-da6c-47f0-bd0d-d8b9c8632624"
      },
      "source": [
        "# lets see if there is missing data\n",
        "\n",
        "def display_missing(df):    \n",
        "    for col in df.columns.tolist():   \n",
        "        print('{} column missing values: {}'.format(col, df[col].isnull().sum()))   \n",
        "    print('\\n')\n",
        "    \n",
        "display_missing(muzify)"
      ],
      "execution_count": null,
      "outputs": [
        {
          "output_type": "stream",
          "text": [
            "id column missing values: 0\n",
            "name column missing values: 71\n",
            "popularity column missing values: 0\n",
            "duration_ms column missing values: 0\n",
            "explicit column missing values: 0\n",
            "artists column missing values: 0\n",
            "id_artists column missing values: 0\n",
            "release_date column missing values: 0\n",
            "danceability column missing values: 0\n",
            "energy column missing values: 0\n",
            "key column missing values: 0\n",
            "loudness column missing values: 0\n",
            "mode column missing values: 0\n",
            "speechiness column missing values: 0\n",
            "acousticness column missing values: 0\n",
            "instrumentalness column missing values: 0\n",
            "liveness column missing values: 0\n",
            "valence column missing values: 0\n",
            "tempo column missing values: 0\n",
            "time_signature column missing values: 0\n",
            "\n",
            "\n"
          ],
          "name": "stdout"
        }
      ]
    },
    {
      "cell_type": "code",
      "metadata": {
        "id": "r2_WiUaO4Z93"
      },
      "source": [
        "class SpotifyRecommender():\n",
        "    def __init__(self, rec_data):\n",
        "        #our class should understand which data to work with\n",
        "        self.rec_data_ = rec_data\n",
        "    \n",
        "    #if we need to change data\n",
        "    def change_data(self, rec_data):\n",
        "        self.rec_data_ = rec_data\n",
        "    \n",
        "    #function which returns recommendations, we can also choose the amount of songs to be recommended\n",
        "    def get_recommendations(self, song_name, amount=1):\n",
        "        distances = []\n",
        "    #choosing the data for our song\n",
        "        song = self.rec_data_[(self.rec_data_.name.str.lower() == song_name.lower())].head(1).values[0]\n",
        "    #dropping the data with our song\n",
        "        res_data = self.rec_data_[self.rec_data_.name.str.lower() != song_name.lower()]\n",
        "        for r_song in tqdm(res_data.values):\n",
        "            dist = 0\n",
        "            for col in np.arange(len(res_data.columns)):\n",
        "    #indeces of non-numerical columns\n",
        "                if not col in [1, 6, 12, 14, 18]:\n",
        "    #calculating the manhettan distances for each numerical feature\n",
        "                    dist = dist + np.absolute(float(song[col]) - float(r_song[col]))\n",
        "            distances.append(dist)\n",
        "        res_data['distance'] = distances\n",
        "    #sorting our data to be ascending by 'distance' feature\n",
        "        res_data = res_data.sort_values('distance')\n",
        "        columns = ['artists', 'name']\n",
        "        return res_data[columns][:amount]"
      ],
      "execution_count": null,
      "outputs": []
    },
    {
      "cell_type": "code",
      "metadata": {
        "id": "ZuF5vP4g4kuB"
      },
      "source": [
        "recommender = SpotifyRecommender(muzify)"
      ],
      "execution_count": null,
      "outputs": []
    },
    {
      "cell_type": "code",
      "metadata": {
        "id": "NLB6c2gR4zzX"
      },
      "source": [
        "from tqdm import tqdm"
      ],
      "execution_count": null,
      "outputs": []
    },
    {
      "cell_type": "code",
      "metadata": {
        "id": "M1IjRMlx48Rw"
      },
      "source": [
        "recommender = muzify_filtered"
      ],
      "execution_count": null,
      "outputs": []
    },
    {
      "cell_type": "code",
      "metadata": {
        "id": "4Mt1B0cO4r29"
      },
      "source": [
        "muzify_filtered = ('Bohemian Rhapsody')"
      ],
      "execution_count": null,
      "outputs": []
    },
    {
      "cell_type": "code",
      "metadata": {
        "colab": {
          "base_uri": "https://localhost:8080/",
          "height": 35
        },
        "id": "coarbowgUsqC",
        "outputId": "2152881d-1fe1-4220-8560-fead2ede35d8"
      },
      "source": [
        "muzify_filtered"
      ],
      "execution_count": null,
      "outputs": [
        {
          "output_type": "execute_result",
          "data": {
            "application/vnd.google.colaboratory.intrinsic+json": {
              "type": "string"
            },
            "text/plain": [
              "'Bohemian Rhapsody'"
            ]
          },
          "metadata": {
            "tags": []
          },
          "execution_count": 29
        }
      ]
    },
    {
      "cell_type": "code",
      "metadata": {
        "id": "PAiu4eLFUwu6"
      },
      "source": [
        "def normalize_column(col):\n",
        "    max_d = data[col].max()\n",
        "    min_d = data[col].min()\n",
        "    data[col] = (data[col] - min_d)/(max_d - min_d)"
      ],
      "execution_count": null,
      "outputs": []
    },
    {
      "cell_type": "code",
      "metadata": {
        "colab": {
          "base_uri": "https://localhost:8080/",
          "height": 162
        },
        "id": "Y45e-h--XUhY",
        "outputId": "b028a1dc-cc40-48d7-b769-45037a419c36"
      },
      "source": [
        "caya=muzify[muzify=='Come As You Are']\n",
        "caya.head(3)"
      ],
      "execution_count": null,
      "outputs": [
        {
          "output_type": "execute_result",
          "data": {
            "text/html": [
              "<div>\n",
              "<style scoped>\n",
              "    .dataframe tbody tr th:only-of-type {\n",
              "        vertical-align: middle;\n",
              "    }\n",
              "\n",
              "    .dataframe tbody tr th {\n",
              "        vertical-align: top;\n",
              "    }\n",
              "\n",
              "    .dataframe thead th {\n",
              "        text-align: right;\n",
              "    }\n",
              "</style>\n",
              "<table border=\"1\" class=\"dataframe\">\n",
              "  <thead>\n",
              "    <tr style=\"text-align: right;\">\n",
              "      <th></th>\n",
              "      <th>id</th>\n",
              "      <th>name</th>\n",
              "      <th>popularity</th>\n",
              "      <th>duration_ms</th>\n",
              "      <th>explicit</th>\n",
              "      <th>artists</th>\n",
              "      <th>id_artists</th>\n",
              "      <th>release_date</th>\n",
              "      <th>danceability</th>\n",
              "      <th>energy</th>\n",
              "      <th>key</th>\n",
              "      <th>loudness</th>\n",
              "      <th>mode</th>\n",
              "      <th>speechiness</th>\n",
              "      <th>acousticness</th>\n",
              "      <th>instrumentalness</th>\n",
              "      <th>liveness</th>\n",
              "      <th>valence</th>\n",
              "      <th>tempo</th>\n",
              "      <th>time_signature</th>\n",
              "    </tr>\n",
              "  </thead>\n",
              "  <tbody>\n",
              "    <tr>\n",
              "      <th>0</th>\n",
              "      <td>NaN</td>\n",
              "      <td>NaN</td>\n",
              "      <td>NaN</td>\n",
              "      <td>NaN</td>\n",
              "      <td>NaN</td>\n",
              "      <td>NaN</td>\n",
              "      <td>NaN</td>\n",
              "      <td>NaN</td>\n",
              "      <td>NaN</td>\n",
              "      <td>NaN</td>\n",
              "      <td>NaN</td>\n",
              "      <td>NaN</td>\n",
              "      <td>NaN</td>\n",
              "      <td>NaN</td>\n",
              "      <td>NaN</td>\n",
              "      <td>NaN</td>\n",
              "      <td>NaN</td>\n",
              "      <td>NaN</td>\n",
              "      <td>NaN</td>\n",
              "      <td>NaN</td>\n",
              "    </tr>\n",
              "    <tr>\n",
              "      <th>1</th>\n",
              "      <td>NaN</td>\n",
              "      <td>NaN</td>\n",
              "      <td>NaN</td>\n",
              "      <td>NaN</td>\n",
              "      <td>NaN</td>\n",
              "      <td>NaN</td>\n",
              "      <td>NaN</td>\n",
              "      <td>NaN</td>\n",
              "      <td>NaN</td>\n",
              "      <td>NaN</td>\n",
              "      <td>NaN</td>\n",
              "      <td>NaN</td>\n",
              "      <td>NaN</td>\n",
              "      <td>NaN</td>\n",
              "      <td>NaN</td>\n",
              "      <td>NaN</td>\n",
              "      <td>NaN</td>\n",
              "      <td>NaN</td>\n",
              "      <td>NaN</td>\n",
              "      <td>NaN</td>\n",
              "    </tr>\n",
              "    <tr>\n",
              "      <th>2</th>\n",
              "      <td>NaN</td>\n",
              "      <td>NaN</td>\n",
              "      <td>NaN</td>\n",
              "      <td>NaN</td>\n",
              "      <td>NaN</td>\n",
              "      <td>NaN</td>\n",
              "      <td>NaN</td>\n",
              "      <td>NaN</td>\n",
              "      <td>NaN</td>\n",
              "      <td>NaN</td>\n",
              "      <td>NaN</td>\n",
              "      <td>NaN</td>\n",
              "      <td>NaN</td>\n",
              "      <td>NaN</td>\n",
              "      <td>NaN</td>\n",
              "      <td>NaN</td>\n",
              "      <td>NaN</td>\n",
              "      <td>NaN</td>\n",
              "      <td>NaN</td>\n",
              "      <td>NaN</td>\n",
              "    </tr>\n",
              "  </tbody>\n",
              "</table>\n",
              "</div>"
            ],
            "text/plain": [
              "    id name  popularity  duration_ms  ...  liveness valence tempo time_signature\n",
              "0  NaN  NaN         NaN          NaN  ...       NaN     NaN   NaN            NaN\n",
              "1  NaN  NaN         NaN          NaN  ...       NaN     NaN   NaN            NaN\n",
              "2  NaN  NaN         NaN          NaN  ...       NaN     NaN   NaN            NaN\n",
              "\n",
              "[3 rows x 20 columns]"
            ]
          },
          "metadata": {
            "tags": []
          },
          "execution_count": 31
        }
      ]
    },
    {
      "cell_type": "markdown",
      "metadata": {
        "id": "XMYUE7jrafEo"
      },
      "source": [
        ""
      ]
    },
    {
      "cell_type": "code",
      "metadata": {
        "colab": {
          "base_uri": "https://localhost:8080/",
          "height": 163
        },
        "id": "kcjc45VbWfav",
        "outputId": "da6fc385-0650-4ad3-ce4c-6fa97edbc9a5"
      },
      "source": [
        "muzify_.cat[:10]"
      ],
      "execution_count": null,
      "outputs": [
        {
          "output_type": "error",
          "ename": "NameError",
          "evalue": "ignored",
          "traceback": [
            "\u001b[0;31m---------------------------------------------------------------------------\u001b[0m",
            "\u001b[0;31mNameError\u001b[0m                                 Traceback (most recent call last)",
            "\u001b[0;32m<ipython-input-2-c019a9fae274>\u001b[0m in \u001b[0;36m<module>\u001b[0;34m()\u001b[0m\n\u001b[0;32m----> 1\u001b[0;31m \u001b[0mmuzify_\u001b[0m\u001b[0;34m.\u001b[0m\u001b[0mcat\u001b[0m\u001b[0;34m[\u001b[0m\u001b[0;34m:\u001b[0m\u001b[0;36m10\u001b[0m\u001b[0;34m]\u001b[0m\u001b[0;34m\u001b[0m\u001b[0;34m\u001b[0m\u001b[0m\n\u001b[0m",
            "\u001b[0;31mNameError\u001b[0m: name 'muzify_' is not defined"
          ]
        }
      ]
    }
  ]
}